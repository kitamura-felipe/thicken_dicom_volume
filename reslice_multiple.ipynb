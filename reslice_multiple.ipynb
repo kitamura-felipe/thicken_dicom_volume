{
 "cells": [
  {
   "cell_type": "markdown",
   "metadata": {},
   "source": [
    "# Reslice CT in multiples of Slice Spacing"
   ]
  },
  {
   "cell_type": "markdown",
   "metadata": {},
   "source": [
    "### This is a simple algorithm to increase (only) the Spacing Between Slices (0018, 0088) of CT scans.\n",
    "### It assumes the Slice Thickness is equal to Spacing Between Slices.\n",
    "### Otherwise, it calculates only an approximation of the real result, which may also be useful."
   ]
  },
  {
   "cell_type": "markdown",
   "metadata": {},
   "source": [
    "## 1. Import libraries"
   ]
  },
  {
   "cell_type": "code",
   "execution_count": 1,
   "metadata": {},
   "outputs": [],
   "source": [
    "import pydicom\n",
    "import cv2\n",
    "import numpy as np\n",
    "from glob import glob\n",
    "import os"
   ]
  },
  {
   "cell_type": "markdown",
   "metadata": {},
   "source": [
    "## 2. Load a series and sort based on slice position "
   ]
  },
  {
   "cell_type": "code",
   "execution_count": 2,
   "metadata": {},
   "outputs": [],
   "source": [
    "_e = \"study\\\\series\"\n",
    "slices = [pydicom.read_file(_e + '\\\\' + s) for s in os.listdir(_e)]\n",
    "slices.sort(key = lambda x: int(x.ImagePositionPatient[2]))"
   ]
  },
  {
   "cell_type": "code",
   "execution_count": 3,
   "metadata": {},
   "outputs": [
    {
     "name": "stdout",
     "output_type": "stream",
     "text": [
      "Number of slices: 168\n"
     ]
    }
   ],
   "source": [
    "print(\"Number of slices: \" + str(len(slices)))"
   ]
  },
  {
   "cell_type": "markdown",
   "metadata": {},
   "source": [
    "## 3. Check if Spacing Between Slices matches the distance between each adjacent slice "
   ]
  },
  {
   "cell_type": "code",
   "execution_count": 4,
   "metadata": {},
   "outputs": [
    {
     "name": "stdout",
     "output_type": "stream",
     "text": [
      "Slice #1 pass. SliceSpacing: 1.0mm Distance: 1.0mm.\n",
      "Slice #2 pass. SliceSpacing: 1.0mm Distance: 1.0mm.\n",
      "Slice #3 pass. SliceSpacing: 1.0mm Distance: 1.0mm.\n",
      "Slice #4 pass. SliceSpacing: 1.0mm Distance: 1.0mm.\n",
      "Slice #5 pass. SliceSpacing: 1.0mm Distance: 1.0mm.\n",
      "Slice #6 pass. SliceSpacing: 1.0mm Distance: 1.0mm.\n",
      "Slice #7 pass. SliceSpacing: 1.0mm Distance: 1.0mm.\n",
      "Slice #8 pass. SliceSpacing: 1.0mm Distance: 1.0mm.\n",
      "Slice #9 pass. SliceSpacing: 1.0mm Distance: 1.0mm.\n",
      "Slice #10 pass. SliceSpacing: 1.0mm Distance: 1.0mm.\n",
      "Slice #11 pass. SliceSpacing: 1.0mm Distance: 1.0mm.\n",
      "Slice #12 pass. SliceSpacing: 1.0mm Distance: 1.0mm.\n",
      "Slice #13 pass. SliceSpacing: 1.0mm Distance: 1.0mm.\n",
      "Slice #14 pass. SliceSpacing: 1.0mm Distance: 1.0mm.\n",
      "Slice #15 pass. SliceSpacing: 1.0mm Distance: 1.0mm.\n",
      "Slice #16 pass. SliceSpacing: 1.0mm Distance: 1.0mm.\n",
      "Slice #17 pass. SliceSpacing: 1.0mm Distance: 1.0mm.\n",
      "Slice #18 pass. SliceSpacing: 1.0mm Distance: 1.0mm.\n",
      "Slice #19 pass. SliceSpacing: 1.0mm Distance: 1.0mm.\n",
      "Slice #20 pass. SliceSpacing: 1.0mm Distance: 1.0mm.\n",
      "Slice #21 pass. SliceSpacing: 1.0mm Distance: 1.0mm.\n",
      "Slice #22 pass. SliceSpacing: 1.0mm Distance: 1.0mm.\n",
      "Slice #23 pass. SliceSpacing: 1.0mm Distance: 1.0mm.\n",
      "Slice #24 pass. SliceSpacing: 1.0mm Distance: 1.0mm.\n",
      "Slice #25 pass. SliceSpacing: 1.0mm Distance: 1.0mm.\n",
      "Slice #26 pass. SliceSpacing: 1.0mm Distance: 1.0mm.\n",
      "Slice #27 pass. SliceSpacing: 1.0mm Distance: 1.0mm.\n",
      "Slice #28 pass. SliceSpacing: 1.0mm Distance: 1.0mm.\n",
      "Slice #29 pass. SliceSpacing: 1.0mm Distance: 1.0mm.\n",
      "Slice #30 pass. SliceSpacing: 1.0mm Distance: 1.0mm.\n",
      "Slice #31 pass. SliceSpacing: 1.0mm Distance: 1.0mm.\n",
      "Slice #32 pass. SliceSpacing: 1.0mm Distance: 1.0mm.\n",
      "Slice #33 pass. SliceSpacing: 1.0mm Distance: 1.0mm.\n",
      "Slice #34 pass. SliceSpacing: 1.0mm Distance: 1.0mm.\n",
      "Slice #35 pass. SliceSpacing: 1.0mm Distance: 1.0mm.\n",
      "Slice #36 pass. SliceSpacing: 1.0mm Distance: 1.0mm.\n",
      "Slice #37 pass. SliceSpacing: 1.0mm Distance: 1.0mm.\n",
      "Slice #38 pass. SliceSpacing: 1.0mm Distance: 1.0mm.\n",
      "Slice #39 pass. SliceSpacing: 1.0mm Distance: 1.0mm.\n",
      "Slice #40 pass. SliceSpacing: 1.0mm Distance: 1.0mm.\n",
      "Slice #41 pass. SliceSpacing: 1.0mm Distance: 1.0mm.\n",
      "Slice #42 pass. SliceSpacing: 1.0mm Distance: 1.0mm.\n",
      "Slice #43 pass. SliceSpacing: 1.0mm Distance: 1.0mm.\n",
      "Slice #44 pass. SliceSpacing: 1.0mm Distance: 1.0mm.\n",
      "Slice #45 pass. SliceSpacing: 1.0mm Distance: 1.0mm.\n",
      "Slice #46 pass. SliceSpacing: 1.0mm Distance: 1.0mm.\n",
      "Slice #47 pass. SliceSpacing: 1.0mm Distance: 1.0mm.\n",
      "Slice #48 pass. SliceSpacing: 1.0mm Distance: 1.0mm.\n",
      "Slice #49 pass. SliceSpacing: 1.0mm Distance: 1.0mm.\n",
      "Slice #50 pass. SliceSpacing: 1.0mm Distance: 1.0mm.\n",
      "Slice #51 pass. SliceSpacing: 1.0mm Distance: 1.0mm.\n",
      "Slice #52 pass. SliceSpacing: 1.0mm Distance: 1.0mm.\n",
      "Slice #53 pass. SliceSpacing: 1.0mm Distance: 1.0mm.\n",
      "Slice #54 pass. SliceSpacing: 1.0mm Distance: 1.0mm.\n",
      "Slice #55 pass. SliceSpacing: 1.0mm Distance: 1.0mm.\n",
      "Slice #56 pass. SliceSpacing: 1.0mm Distance: 1.0mm.\n",
      "Slice #57 pass. SliceSpacing: 1.0mm Distance: 1.0mm.\n",
      "Slice #58 pass. SliceSpacing: 1.0mm Distance: 1.0mm.\n",
      "Slice #59 pass. SliceSpacing: 1.0mm Distance: 1.0mm.\n",
      "Slice #60 pass. SliceSpacing: 1.0mm Distance: 1.0mm.\n",
      "Slice #61 pass. SliceSpacing: 1.0mm Distance: 1.0mm.\n",
      "Slice #62 pass. SliceSpacing: 1.0mm Distance: 1.0mm.\n",
      "Slice #63 pass. SliceSpacing: 1.0mm Distance: 1.0mm.\n",
      "Slice #64 pass. SliceSpacing: 1.0mm Distance: 1.0mm.\n",
      "Slice #65 pass. SliceSpacing: 1.0mm Distance: 1.0mm.\n",
      "Slice #66 pass. SliceSpacing: 1.0mm Distance: 1.0mm.\n",
      "Slice #67 pass. SliceSpacing: 1.0mm Distance: 1.0mm.\n",
      "Slice #68 pass. SliceSpacing: 1.0mm Distance: 1.0mm.\n",
      "Slice #69 pass. SliceSpacing: 1.0mm Distance: 1.0mm.\n",
      "Slice #70 pass. SliceSpacing: 1.0mm Distance: 1.0mm.\n",
      "Slice #71 pass. SliceSpacing: 1.0mm Distance: 1.0mm.\n",
      "Slice #72 pass. SliceSpacing: 1.0mm Distance: 1.0mm.\n",
      "Slice #73 pass. SliceSpacing: 1.0mm Distance: 1.0mm.\n",
      "Slice #74 pass. SliceSpacing: 1.0mm Distance: 1.0mm.\n",
      "Slice #75 pass. SliceSpacing: 1.0mm Distance: 1.0mm.\n",
      "Slice #76 pass. SliceSpacing: 1.0mm Distance: 1.0mm.\n",
      "Slice #77 pass. SliceSpacing: 1.0mm Distance: 1.0mm.\n",
      "Slice #78 pass. SliceSpacing: 1.0mm Distance: 1.0mm.\n",
      "Slice #79 pass. SliceSpacing: 1.0mm Distance: 1.0mm.\n",
      "Slice #80 pass. SliceSpacing: 1.0mm Distance: 1.0mm.\n",
      "Slice #81 pass. SliceSpacing: 1.0mm Distance: 1.0mm.\n",
      "Slice #82 pass. SliceSpacing: 1.0mm Distance: 1.0mm.\n",
      "Slice #83 pass. SliceSpacing: 1.0mm Distance: 1.0mm.\n",
      "Slice #84 pass. SliceSpacing: 1.0mm Distance: 1.0mm.\n",
      "Slice #85 pass. SliceSpacing: 1.0mm Distance: 1.0mm.\n",
      "Slice #86 pass. SliceSpacing: 1.0mm Distance: 1.0mm.\n",
      "Slice #87 pass. SliceSpacing: 1.0mm Distance: 1.0mm.\n",
      "Slice #88 pass. SliceSpacing: 1.0mm Distance: 1.0mm.\n",
      "Slice #89 pass. SliceSpacing: 1.0mm Distance: 1.0mm.\n",
      "Slice #90 pass. SliceSpacing: 1.0mm Distance: 1.0mm.\n",
      "Slice #91 pass. SliceSpacing: 1.0mm Distance: 1.0mm.\n",
      "Slice #92 pass. SliceSpacing: 1.0mm Distance: 1.0mm.\n",
      "Slice #93 pass. SliceSpacing: 1.0mm Distance: 1.0mm.\n",
      "Slice #94 pass. SliceSpacing: 1.0mm Distance: 1.0mm.\n",
      "Slice #95 pass. SliceSpacing: 1.0mm Distance: 1.0mm.\n",
      "Slice #96 pass. SliceSpacing: 1.0mm Distance: 1.0mm.\n",
      "Slice #97 pass. SliceSpacing: 1.0mm Distance: 1.0mm.\n",
      "Slice #98 pass. SliceSpacing: 1.0mm Distance: 1.0mm.\n",
      "Slice #99 pass. SliceSpacing: 1.0mm Distance: 1.0mm.\n",
      "Slice #100 pass. SliceSpacing: 1.0mm Distance: 1.0mm.\n",
      "Slice #101 pass. SliceSpacing: 1.0mm Distance: 1.0mm.\n",
      "Slice #102 pass. SliceSpacing: 1.0mm Distance: 1.0mm.\n",
      "Slice #103 pass. SliceSpacing: 1.0mm Distance: 1.0mm.\n",
      "Slice #104 pass. SliceSpacing: 1.0mm Distance: 1.0mm.\n",
      "Slice #105 pass. SliceSpacing: 1.0mm Distance: 1.0mm.\n",
      "Slice #106 pass. SliceSpacing: 1.0mm Distance: 1.0mm.\n",
      "Slice #107 pass. SliceSpacing: 1.0mm Distance: 1.0mm.\n",
      "Slice #108 pass. SliceSpacing: 1.0mm Distance: 1.0mm.\n",
      "Slice #109 pass. SliceSpacing: 1.0mm Distance: 1.0mm.\n",
      "Slice #110 pass. SliceSpacing: 1.0mm Distance: 1.0mm.\n",
      "Slice #111 pass. SliceSpacing: 1.0mm Distance: 1.0mm.\n",
      "Slice #112 pass. SliceSpacing: 1.0mm Distance: 1.0mm.\n",
      "Slice #113 pass. SliceSpacing: 1.0mm Distance: 1.0mm.\n",
      "Slice #114 pass. SliceSpacing: 1.0mm Distance: 1.0mm.\n",
      "Slice #115 pass. SliceSpacing: 1.0mm Distance: 1.0mm.\n",
      "Slice #116 pass. SliceSpacing: 1.0mm Distance: 1.0mm.\n",
      "Slice #117 pass. SliceSpacing: 1.0mm Distance: 1.0mm.\n",
      "Slice #118 pass. SliceSpacing: 1.0mm Distance: 1.0mm.\n",
      "Slice #119 pass. SliceSpacing: 1.0mm Distance: 1.0mm.\n",
      "Slice #120 pass. SliceSpacing: 1.0mm Distance: 1.0mm.\n",
      "Slice #121 pass. SliceSpacing: 1.0mm Distance: 1.0mm.\n",
      "Slice #122 pass. SliceSpacing: 1.0mm Distance: 1.0mm.\n",
      "Slice #123 pass. SliceSpacing: 1.0mm Distance: 1.0mm.\n",
      "Slice #124 pass. SliceSpacing: 1.0mm Distance: 1.0mm.\n",
      "Slice #125 pass. SliceSpacing: 1.0mm Distance: 1.0mm.\n",
      "Slice #126 pass. SliceSpacing: 1.0mm Distance: 1.0mm.\n",
      "Slice #127 pass. SliceSpacing: 1.0mm Distance: 1.0mm.\n",
      "Slice #128 pass. SliceSpacing: 1.0mm Distance: 1.0mm.\n",
      "Slice #129 pass. SliceSpacing: 1.0mm Distance: 1.0mm.\n",
      "Slice #130 pass. SliceSpacing: 1.0mm Distance: 1.0mm.\n",
      "Slice #131 pass. SliceSpacing: 1.0mm Distance: 1.0mm.\n",
      "Slice #132 pass. SliceSpacing: 1.0mm Distance: 1.0mm.\n",
      "Slice #133 pass. SliceSpacing: 1.0mm Distance: 1.0mm.\n",
      "Slice #134 pass. SliceSpacing: 1.0mm Distance: 1.0mm.\n",
      "Slice #135 pass. SliceSpacing: 1.0mm Distance: 1.0mm.\n",
      "Slice #136 pass. SliceSpacing: 1.0mm Distance: 1.0mm.\n",
      "Slice #137 pass. SliceSpacing: 1.0mm Distance: 1.0mm.\n",
      "Slice #138 pass. SliceSpacing: 1.0mm Distance: 1.0mm.\n",
      "Slice #139 pass. SliceSpacing: 1.0mm Distance: 1.0mm.\n",
      "Slice #140 pass. SliceSpacing: 1.0mm Distance: 1.0mm.\n",
      "Slice #141 pass. SliceSpacing: 1.0mm Distance: 1.0mm.\n",
      "Slice #142 pass. SliceSpacing: 1.0mm Distance: 1.0mm.\n",
      "Slice #143 pass. SliceSpacing: 1.0mm Distance: 1.0mm.\n",
      "Slice #144 pass. SliceSpacing: 1.0mm Distance: 1.0mm.\n",
      "Slice #145 pass. SliceSpacing: 1.0mm Distance: 1.0mm.\n",
      "Slice #146 pass. SliceSpacing: 1.0mm Distance: 1.0mm.\n",
      "Slice #147 pass. SliceSpacing: 1.0mm Distance: 1.0mm.\n",
      "Slice #148 pass. SliceSpacing: 1.0mm Distance: 1.0mm.\n",
      "Slice #149 pass. SliceSpacing: 1.0mm Distance: 1.0mm.\n",
      "Slice #150 pass. SliceSpacing: 1.0mm Distance: 1.0mm.\n",
      "Slice #151 pass. SliceSpacing: 1.0mm Distance: 1.0mm.\n",
      "Slice #152 pass. SliceSpacing: 1.0mm Distance: 1.0mm.\n",
      "Slice #153 pass. SliceSpacing: 1.0mm Distance: 1.0mm.\n",
      "Slice #154 pass. SliceSpacing: 1.0mm Distance: 1.0mm.\n",
      "Slice #155 pass. SliceSpacing: 1.0mm Distance: 1.0mm.\n",
      "Slice #156 pass. SliceSpacing: 1.0mm Distance: 1.0mm.\n",
      "Slice #157 pass. SliceSpacing: 1.0mm Distance: 1.0mm.\n",
      "Slice #158 pass. SliceSpacing: 1.0mm Distance: 1.0mm.\n",
      "Slice #159 pass. SliceSpacing: 1.0mm Distance: 1.0mm.\n",
      "Slice #160 pass. SliceSpacing: 1.0mm Distance: 1.0mm.\n",
      "Slice #161 pass. SliceSpacing: 1.0mm Distance: 1.0mm.\n",
      "Slice #162 pass. SliceSpacing: 1.0mm Distance: 1.0mm.\n",
      "Slice #163 pass. SliceSpacing: 1.0mm Distance: 1.0mm.\n",
      "Slice #164 pass. SliceSpacing: 1.0mm Distance: 1.0mm.\n",
      "Slice #165 pass. SliceSpacing: 1.0mm Distance: 1.0mm.\n",
      "Slice #166 pass. SliceSpacing: 1.0mm Distance: 1.0mm.\n",
      "Slice #167 pass. SliceSpacing: 1.0mm Distance: 1.0mm.\n"
     ]
    }
   ],
   "source": [
    "for i in range(1, len(slices)):\n",
    "    distance_between_adjacent_slices = slices[i].ImagePositionPatient[2] - \\\n",
    "                                        slices[i-1].ImagePositionPatient[2]\n",
    "    \n",
    "    if slices[i].SpacingBetweenSlices == distance_between_adjacent_slices:\n",
    "        print(\"Slice #\" + str(i) + \" pass. SliceSpacing: \" + \\\n",
    "              str(slices[i].SpacingBetweenSlices) + \"mm Distance: \" + \\\n",
    "              str(distance_between_adjacent_slices) + \"mm.\")\n",
    "    else:\n",
    "        print(\"Inconsistency found in slice #\" + str(i) + \". SliceSpacing: \" + \\\n",
    "              str(slices[i].SpacingBetweenSlices) + \"mm Distance: \" + \\\n",
    "              str(distance_between_adjacent_slices) + \"mm.\")\n",
    "        "
   ]
  },
  {
   "cell_type": "markdown",
   "metadata": {},
   "source": [
    "## 4. Print some possible target Spacing Between Slices\n",
    "### These are multiples of the original Spacing Between Slices"
   ]
  },
  {
   "cell_type": "code",
   "execution_count": 5,
   "metadata": {},
   "outputs": [
    {
     "name": "stdout",
     "output_type": "stream",
     "text": [
      "Multiplying 1.0mm by 2: 2.0\n",
      "Multiplying 1.0mm by 3: 3.0\n",
      "Multiplying 1.0mm by 4: 4.0\n",
      "Multiplying 1.0mm by 5: 5.0\n",
      "Multiplying 1.0mm by 6: 6.0\n",
      "Multiplying 1.0mm by 7: 7.0\n",
      "Multiplying 1.0mm by 8: 8.0\n",
      "Multiplying 1.0mm by 9: 9.0\n",
      "Multiplying 1.0mm by 10: 10.0\n",
      "Multiplying 1.0mm by 11: 11.0\n",
      "Multiplying 1.0mm by 12: 12.0\n",
      "Multiplying 1.0mm by 13: 13.0\n",
      "Multiplying 1.0mm by 14: 14.0\n",
      "Multiplying 1.0mm by 15: 15.0\n"
     ]
    }
   ],
   "source": [
    "for c in range(2, 16):\n",
    "    print(\"Multiplying \" + str(slices[1].SpacingBetweenSlices) + \"mm by \" + \\\n",
    "          str(c) + \": \" + str(slices[1].SpacingBetweenSlices * c))\n"
   ]
  },
  {
   "cell_type": "markdown",
   "metadata": {},
   "source": [
    "## 5. Choose a target SpacingBetweenSlices. It has to be a multiple of the original SpacingBetweenSlices."
   ]
  },
  {
   "cell_type": "code",
   "execution_count": 6,
   "metadata": {},
   "outputs": [],
   "source": [
    "target_SpacingBetweenSlices = 2.0"
   ]
  },
  {
   "cell_type": "code",
   "execution_count": 7,
   "metadata": {},
   "outputs": [],
   "source": [
    "count = 0\n",
    "\n",
    "slices = [pydicom.read_file(_e + '\\\\' + s) for s in os.listdir(_e)]\n",
    "slices.sort(key = lambda x: int(x.ImagePositionPatient[2]))\n",
    "\n",
    "target_SpacingBetweenSlices = int(target_SpacingBetweenSlices / slices[1].SpacingBetweenSlices)\n",
    "\n",
    "slab = np.empty((slices[0].Rows, slices[0].Columns, target_SpacingBetweenSlices))\n",
    "\n",
    "meio = target_SpacingBetweenSlices // 2\n",
    "\n",
    "for i in range(len(slices)):\n",
    "    \n",
    "    slab[..., count] = slices[i].pixel_array\n",
    "    \n",
    "    count += 1\n",
    "    if count == target_SpacingBetweenSlices:\n",
    "        count = 0\n",
    "        media = np.mean(slab, axis=2).astype(\"uint16\")\n",
    "        slices[i-meio].PixelData = media.tobytes()\n",
    "        \n",
    "        Thickness = target_SpacingBetweenSlices * slices[i].SpacingBetweenSlices\n",
    "        \n",
    "        slices[i-meio].SliceThickness = Thickness\n",
    "        slices[i-meio].SpacingBetweenSlices = Thickness\n",
    "        \n",
    "        os.makedirs(\"reformated\\\\\" + str(Thickness) + \"mm\\\\\" + str(slices[i-meio].StudyInstanceUID) + \\\n",
    "                    \"\\\\\", exist_ok=True)\n",
    "        pydicom.dcmwrite(\"reformated\\\\\" + str(Thickness) + \"mm\\\\\" + str(slices[i-meio].StudyInstanceUID) + \\\n",
    "                         \"\\\\\" + str(slices[i-meio].SOPInstanceUID), slices[i-meio]) \n",
    "\n",
    "del(slices)"
   ]
  },
  {
   "cell_type": "code",
   "execution_count": null,
   "metadata": {},
   "outputs": [],
   "source": []
  }
 ],
 "metadata": {
  "kernelspec": {
   "display_name": "Python 3",
   "language": "python",
   "name": "python3"
  },
  "language_info": {
   "codemirror_mode": {
    "name": "ipython",
    "version": 3
   },
   "file_extension": ".py",
   "mimetype": "text/x-python",
   "name": "python",
   "nbconvert_exporter": "python",
   "pygments_lexer": "ipython3",
   "version": "3.6.8"
  }
 },
 "nbformat": 4,
 "nbformat_minor": 2
}
